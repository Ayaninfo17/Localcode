{
 "cells": [
  {
   "cell_type": "code",
   "execution_count": 1,
   "id": "60c6e1c0",
   "metadata": {},
   "outputs": [],
   "source": [
    "import os\n",
    "import django\n",
    "os.environ.setdefault('DJANGO_SETTINGS_MODULE', 'quiz_project.settings')\n",
    "os.environ[\"DJANGO_ALLOW_ASYNC_UNSAFE\"] = \"true\"\n",
    "django.setup()\n",
    "\n",
    "from django_pandas.io import read_frame\n",
    "# !pip install django_pandas"
   ]
  },
  {
   "cell_type": "code",
   "execution_count": 15,
   "id": "5b28cff7",
   "metadata": {},
   "outputs": [],
   "source": [
    "from quiz_app.models import (\n",
    "    Subject,\n",
    "    Question,\n",
    "#     Option,\n",
    ")\n",
    "from django.db.models import (\n",
    "    OuterRef,\n",
    "    Count,\n",
    "    F,\n",
    "    Value,\n",
    "    \n",
    ")"
   ]
  },
  {
   "cell_type": "code",
   "execution_count": 16,
   "id": "3b90e95a",
   "metadata": {},
   "outputs": [],
   "source": [
    "get_question_qs = Question.objects.filter(subject__subject_name__iexact='biology')"
   ]
  },
  {
   "cell_type": "code",
   "execution_count": 17,
   "id": "1953e4f0",
   "metadata": {},
   "outputs": [
    {
     "data": {
      "text/html": [
       "<div>\n",
       "<style scoped>\n",
       "    .dataframe tbody tr th:only-of-type {\n",
       "        vertical-align: middle;\n",
       "    }\n",
       "\n",
       "    .dataframe tbody tr th {\n",
       "        vertical-align: top;\n",
       "    }\n",
       "\n",
       "    .dataframe thead th {\n",
       "        text-align: right;\n",
       "    }\n",
       "</style>\n",
       "<table border=\"1\" class=\"dataframe\">\n",
       "  <thead>\n",
       "    <tr style=\"text-align: right;\">\n",
       "      <th></th>\n",
       "      <th>id</th>\n",
       "      <th>subject</th>\n",
       "      <th>question_name</th>\n",
       "      <th>op1</th>\n",
       "      <th>op2</th>\n",
       "      <th>op3</th>\n",
       "      <th>op4</th>\n",
       "      <th>answer</th>\n",
       "      <th>created_at</th>\n",
       "      <th>updated_at</th>\n",
       "    </tr>\n",
       "  </thead>\n",
       "  <tbody>\n",
       "    <tr>\n",
       "      <th>0</th>\n",
       "      <td>2</td>\n",
       "      <td>Biology</td>\n",
       "      <td>Who discover Mitochondria</td>\n",
       "      <td>Albert Einstien</td>\n",
       "      <td>Neuton</td>\n",
       "      <td>Proton</td>\n",
       "      <td>Benda</td>\n",
       "      <td>Benda</td>\n",
       "      <td>2023-02-15</td>\n",
       "      <td>2023-02-15</td>\n",
       "    </tr>\n",
       "    <tr>\n",
       "      <th>1</th>\n",
       "      <td>4</td>\n",
       "      <td>Biology</td>\n",
       "      <td>What are vacuoles in plant cells</td>\n",
       "      <td>Blank Space</td>\n",
       "      <td>Remaining Space</td>\n",
       "      <td>Cell organally</td>\n",
       "      <td>Cell Energy system</td>\n",
       "      <td>Blank Space</td>\n",
       "      <td>2023-02-15</td>\n",
       "      <td>2023-02-15</td>\n",
       "    </tr>\n",
       "  </tbody>\n",
       "</table>\n",
       "</div>"
      ],
      "text/plain": [
       "   id  subject                     question_name              op1  \\\n",
       "0   2  Biology         Who discover Mitochondria  Albert Einstien   \n",
       "1   4  Biology  What are vacuoles in plant cells      Blank Space   \n",
       "\n",
       "               op2             op3                 op4       answer  \\\n",
       "0           Neuton          Proton               Benda        Benda   \n",
       "1  Remaining Space  Cell organally  Cell Energy system  Blank Space   \n",
       "\n",
       "   created_at  updated_at  \n",
       "0  2023-02-15  2023-02-15  \n",
       "1  2023-02-15  2023-02-15  "
      ]
     },
     "execution_count": 17,
     "metadata": {},
     "output_type": "execute_result"
    }
   ],
   "source": [
    "read_frame(get_question_qs)"
   ]
  },
  {
   "cell_type": "code",
   "execution_count": 23,
   "id": "3ab3f0f9",
   "metadata": {},
   "outputs": [],
   "source": [
    "get_subject_list = Subject.objects.all().values('subject_name',\"id\"\n",
    "            ).annotate(\n",
    "                number_of_questions = Question.objects.filter(subject_id=OuterRef(\"id\")\n",
    "                                            ).values(\"subject_id\"\n",
    "                                                ).annotate(number_of_questions=Count(\"id\")).values(\"number_of_questions\")\n",
    "                \n",
    "                )"
   ]
  },
  {
   "cell_type": "code",
   "execution_count": 24,
   "id": "56c0a2b7",
   "metadata": {},
   "outputs": [
    {
     "data": {
      "text/html": [
       "<div>\n",
       "<style scoped>\n",
       "    .dataframe tbody tr th:only-of-type {\n",
       "        vertical-align: middle;\n",
       "    }\n",
       "\n",
       "    .dataframe tbody tr th {\n",
       "        vertical-align: top;\n",
       "    }\n",
       "\n",
       "    .dataframe thead th {\n",
       "        text-align: right;\n",
       "    }\n",
       "</style>\n",
       "<table border=\"1\" class=\"dataframe\">\n",
       "  <thead>\n",
       "    <tr style=\"text-align: right;\">\n",
       "      <th></th>\n",
       "      <th>subject_name</th>\n",
       "      <th>id</th>\n",
       "      <th>number_of_questions</th>\n",
       "    </tr>\n",
       "  </thead>\n",
       "  <tbody>\n",
       "    <tr>\n",
       "      <th>0</th>\n",
       "      <td>Science</td>\n",
       "      <td>6</td>\n",
       "      <td>1</td>\n",
       "    </tr>\n",
       "    <tr>\n",
       "      <th>1</th>\n",
       "      <td>Biology</td>\n",
       "      <td>7</td>\n",
       "      <td>2</td>\n",
       "    </tr>\n",
       "    <tr>\n",
       "      <th>2</th>\n",
       "      <td>History</td>\n",
       "      <td>8</td>\n",
       "      <td>1</td>\n",
       "    </tr>\n",
       "  </tbody>\n",
       "</table>\n",
       "</div>"
      ],
      "text/plain": [
       "  subject_name  id  number_of_questions\n",
       "0      Science   6                    1\n",
       "1      Biology   7                    2\n",
       "2      History   8                    1"
      ]
     },
     "execution_count": 24,
     "metadata": {},
     "output_type": "execute_result"
    }
   ],
   "source": [
    "read_frame(get_subject_list)"
   ]
  },
  {
   "cell_type": "code",
   "execution_count": null,
   "id": "2c7a7fc1",
   "metadata": {},
   "outputs": [],
   "source": []
  },
  {
   "cell_type": "code",
   "execution_count": null,
   "id": "ec1c8942",
   "metadata": {},
   "outputs": [],
   "source": []
  },
  {
   "cell_type": "code",
   "execution_count": null,
   "id": "45374eb3",
   "metadata": {},
   "outputs": [],
   "source": []
  }
 ],
 "metadata": {
  "kernelspec": {
   "display_name": "Python 3 (ipykernel)",
   "language": "python",
   "name": "python3"
  },
  "language_info": {
   "codemirror_mode": {
    "name": "ipython",
    "version": 3
   },
   "file_extension": ".py",
   "mimetype": "text/x-python",
   "name": "python",
   "nbconvert_exporter": "python",
   "pygments_lexer": "ipython3",
   "version": "3.10.5"
  }
 },
 "nbformat": 4,
 "nbformat_minor": 5
}
