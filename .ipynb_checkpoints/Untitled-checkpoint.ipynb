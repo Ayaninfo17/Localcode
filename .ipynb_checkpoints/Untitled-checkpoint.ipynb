{
 "cells": [
  {
   "cell_type": "code",
   "execution_count": 1,
   "id": "60c6e1c0",
   "metadata": {},
   "outputs": [],
   "source": [
    "import os\n",
    "import django\n",
    "os.environ.setdefault('DJANGO_SETTINGS_MODULE', 'quiz_project.settings')\n",
    "os.environ[\"DJANGO_ALLOW_ASYNC_UNSAFE\"] = \"true\"\n",
    "django.setup()\n",
    "\n",
    "from django_pandas.io import read_frame\n",
    "# !pip install django_pandas"
   ]
  },
  {
   "cell_type": "code",
   "execution_count": 3,
   "id": "5b28cff7",
   "metadata": {},
   "outputs": [],
   "source": [
    "from quiz_app.models import (\n",
    "    Subject,\n",
    "    Question,\n",
    "#     Option,\n",
    ")\n",
    "from django.db.models import (\n",
    "    OuterRef,\n",
    "    Count,\n",
    "    F,\n",
    "    Value,\n",
    "    \n",
    ")"
   ]
  },
  {
   "cell_type": "code",
   "execution_count": 10,
   "id": "3b90e95a",
   "metadata": {},
   "outputs": [],
   "source": [
    "get_question_qs = Question.objects.filter(subject__subject_name__iexact='biology')"
   ]
  },
  {
   "cell_type": "code",
   "execution_count": 11,
   "id": "1953e4f0",
   "metadata": {},
   "outputs": [
    {
     "data": {
      "text/html": [
       "<div>\n",
       "<style scoped>\n",
       "    .dataframe tbody tr th:only-of-type {\n",
       "        vertical-align: middle;\n",
       "    }\n",
       "\n",
       "    .dataframe tbody tr th {\n",
       "        vertical-align: top;\n",
       "    }\n",
       "\n",
       "    .dataframe thead th {\n",
       "        text-align: right;\n",
       "    }\n",
       "</style>\n",
       "<table border=\"1\" class=\"dataframe\">\n",
       "  <thead>\n",
       "    <tr style=\"text-align: right;\">\n",
       "      <th></th>\n",
       "      <th>id</th>\n",
       "      <th>subject</th>\n",
       "      <th>question_name</th>\n",
       "      <th>op1</th>\n",
       "      <th>op2</th>\n",
       "      <th>op3</th>\n",
       "      <th>op4</th>\n",
       "      <th>answer</th>\n",
       "      <th>created_at</th>\n",
       "      <th>updated_at</th>\n",
       "    </tr>\n",
       "  </thead>\n",
       "  <tbody>\n",
       "    <tr>\n",
       "      <th>0</th>\n",
       "      <td>2</td>\n",
       "      <td>Biology</td>\n",
       "      <td>Who discover Mitochondria</td>\n",
       "      <td>Albert Einstien</td>\n",
       "      <td>Neuton</td>\n",
       "      <td>Proton</td>\n",
       "      <td>Benda</td>\n",
       "      <td>Benda</td>\n",
       "      <td>2023-02-15</td>\n",
       "      <td>2023-02-15</td>\n",
       "    </tr>\n",
       "  </tbody>\n",
       "</table>\n",
       "</div>"
      ],
      "text/plain": [
       "   id  subject              question_name              op1     op2     op3  \\\n",
       "0   2  Biology  Who discover Mitochondria  Albert Einstien  Neuton  Proton   \n",
       "\n",
       "     op4 answer  created_at  updated_at  \n",
       "0  Benda  Benda  2023-02-15  2023-02-15  "
      ]
     },
     "execution_count": 11,
     "metadata": {},
     "output_type": "execute_result"
    }
   ],
   "source": [
    "read_frame(get_question_qs)"
   ]
  },
  {
   "cell_type": "code",
   "execution_count": 13,
   "id": "3ab3f0f9",
   "metadata": {},
   "outputs": [
    {
     "ename": "NameError",
     "evalue": "name 'OuterRef' is not defined",
     "output_type": "error",
     "traceback": [
      "\u001b[1;31m---------------------------------------------------------------------------\u001b[0m",
      "\u001b[1;31mNameError\u001b[0m                                 Traceback (most recent call last)",
      "Cell \u001b[1;32mIn[13], line 3\u001b[0m\n\u001b[0;32m      1\u001b[0m get_subject_list \u001b[38;5;241m=\u001b[39m Subject\u001b[38;5;241m.\u001b[39mobjects\u001b[38;5;241m.\u001b[39mall()\u001b[38;5;241m.\u001b[39mvalues(\u001b[38;5;124m\"\u001b[39m\u001b[38;5;124mid\u001b[39m\u001b[38;5;124m\"\u001b[39m\n\u001b[0;32m      2\u001b[0m             )\u001b[38;5;241m.\u001b[39mannotate(\n\u001b[1;32m----> 3\u001b[0m                 number_of_questions \u001b[38;5;241m=\u001b[39m Question\u001b[38;5;241m.\u001b[39mobjects\u001b[38;5;241m.\u001b[39mfilter(subject_id\u001b[38;5;241m=\u001b[39m\u001b[43mOuterRef\u001b[49m(\u001b[38;5;124m\"\u001b[39m\u001b[38;5;124mid\u001b[39m\u001b[38;5;124m\"\u001b[39m)\n\u001b[0;32m      4\u001b[0m                                             )\u001b[38;5;241m.\u001b[39mvalues(\u001b[38;5;124m\"\u001b[39m\u001b[38;5;124msubject_id\u001b[39m\u001b[38;5;124m\"\u001b[39m\n\u001b[0;32m      5\u001b[0m                                                 )\u001b[38;5;241m.\u001b[39mannotate(number_of_questions\u001b[38;5;241m=\u001b[39mCount(\u001b[38;5;124m\"\u001b[39m\u001b[38;5;124mid\u001b[39m\u001b[38;5;124m\"\u001b[39m))\n\u001b[0;32m      6\u001b[0m                 \n\u001b[0;32m      7\u001b[0m                 )\n",
      "\u001b[1;31mNameError\u001b[0m: name 'OuterRef' is not defined"
     ]
    }
   ],
   "source": [
    "get_subject_list = Subject.objects.all().values(\"id\"\n",
    "            ).annotate(\n",
    "                number_of_questions = Question.objects.filter(subject_id=OuterRef(\"id\")\n",
    "                                            ).values(\"subject_id\"\n",
    "                                                ).annotate(number_of_questions=Count(\"id\"))\n",
    "                \n",
    "                )"
   ]
  },
  {
   "cell_type": "code",
   "execution_count": 14,
   "id": "56c0a2b7",
   "metadata": {},
   "outputs": [
    {
     "ename": "NameError",
     "evalue": "name 'get_subject_list' is not defined",
     "output_type": "error",
     "traceback": [
      "\u001b[1;31m---------------------------------------------------------------------------\u001b[0m",
      "\u001b[1;31mNameError\u001b[0m                                 Traceback (most recent call last)",
      "Cell \u001b[1;32mIn[14], line 1\u001b[0m\n\u001b[1;32m----> 1\u001b[0m \u001b[43mget_subject_list\u001b[49m\n",
      "\u001b[1;31mNameError\u001b[0m: name 'get_subject_list' is not defined"
     ]
    }
   ],
   "source": [
    "get_subject_list"
   ]
  },
  {
   "cell_type": "code",
   "execution_count": null,
   "id": "77d9f626",
   "metadata": {},
   "outputs": [],
   "source": []
  }
 ],
 "metadata": {
  "kernelspec": {
   "display_name": "Python 3 (ipykernel)",
   "language": "python",
   "name": "python3"
  },
  "language_info": {
   "codemirror_mode": {
    "name": "ipython",
    "version": 3
   },
   "file_extension": ".py",
   "mimetype": "text/x-python",
   "name": "python",
   "nbconvert_exporter": "python",
   "pygments_lexer": "ipython3",
   "version": "3.10.5"
  }
 },
 "nbformat": 4,
 "nbformat_minor": 5
}
